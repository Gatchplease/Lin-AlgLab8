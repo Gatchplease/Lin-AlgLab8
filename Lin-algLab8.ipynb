{
  "nbformat": 4,
  "nbformat_minor": 0,
  "metadata": {
    "colab": {
      "name": "Untitled11.ipynb",
      "provenance": [],
      "collapsed_sections": []
    },
    "kernelspec": {
      "name": "python3",
      "display_name": "Python 3"
    },
    "language_info": {
      "name": "python"
    }
  },
  "cells": [
    {
      "cell_type": "markdown",
      "metadata": {
        "id": "TdzHPv-cghnd"
      },
      "source": [
        "$$\n",
        "Matrices = \\left\\{\n",
        "    \\begin{array}\\\\\n",
        "        3x+4y+5z=2\\\\ \n",
        "        -1x -2y -3z=4 \\\\\n",
        "        -5x + 2y +3z=6\n",
        "    \\end{array}\n",
        "\\right. $$\n",
        "\n",
        "$$\n",
        "\\begin{bmatrix}3&4&5\\\\-1&-2&-3\\\\-5&2&3\\end{bmatrix} \\cdot \\begin{bmatrix}x\\\\ y\\\\ z\\end{bmatrix} = \\begin{bmatrix}2\\\\4\\\\6\\end{bmatrix}\n",
        "$$"
      ]
    },
    {
      "cell_type": "code",
      "metadata": {
        "id": "NFN0Xru6giAX"
      },
      "source": [
        "import numpy as np"
      ],
      "execution_count": 12,
      "outputs": []
    },
    {
      "cell_type": "code",
      "metadata": {
        "id": "LGbNCwfngkK_"
      },
      "source": [
        "A = np.array([\n",
        "              [3,4,5],\n",
        "              [-1,-2,-3],\n",
        "              [-5,2,3]\n",
        "])\n",
        "\n",
        "B = np.array([\n",
        "              [2],\n",
        "              [4],\n",
        "              [6]\n",
        "])"
      ],
      "execution_count": 18,
      "outputs": []
    },
    {
      "cell_type": "code",
      "metadata": {
        "colab": {
          "base_uri": "https://localhost:8080/"
        },
        "id": "_1hQ41KQj3er",
        "outputId": "03a8329f-c87b-44e0-98cf-9af7669a87eb"
      },
      "source": [
        "print(\"A = \\n\", X)\n",
        "print(\"\\nB = \\n\", Y)"
      ],
      "execution_count": 22,
      "outputs": [
        {
          "output_type": "stream",
          "text": [
            "A = \n",
            " [[ 3  4  5]\n",
            " [-1 -2 -3]\n",
            " [-5  2  3]]\n",
            "\n",
            "B = \n",
            " [[2]\n",
            " [4]\n",
            " [6]]\n"
          ],
          "name": "stdout"
        }
      ]
    },
    {
      "cell_type": "code",
      "metadata": {
        "colab": {
          "base_uri": "https://localhost:8080/"
        },
        "id": "kEN38izYj6DX",
        "outputId": "14fb4e66-4157-41c6-dd39-feac5ec95744"
      },
      "source": [
        "X_inv = np.linalg.inv(X)\n",
        "Xinv_Y = X_inv @ Y\n",
        "\n",
        "print(Xinv_Y)"
      ],
      "execution_count": 23,
      "outputs": [
        {
          "output_type": "stream",
          "text": [
            "[[ -1.66666667]\n",
            " [ 16.33333333]\n",
            " [-11.66666667]]\n"
          ],
          "name": "stdout"
        }
      ]
    },
    {
      "cell_type": "code",
      "metadata": {
        "colab": {
          "base_uri": "https://localhost:8080/"
        },
        "id": "5pPN7zWaj-vy",
        "outputId": "9805a924-6579-476d-8d42-8ff4b30a9b9c"
      },
      "source": [
        "x_y = np.linalg.solve(X, Y)\n",
        "\n",
        "print(x_y)"
      ],
      "execution_count": 24,
      "outputs": [
        {
          "output_type": "stream",
          "text": [
            "[[ -1.66666667]\n",
            " [ 16.33333333]\n",
            " [-11.66666667]]\n"
          ],
          "name": "stdout"
        }
      ]
    },
    {
      "cell_type": "code",
      "metadata": {
        "colab": {
          "base_uri": "https://localhost:8080/"
        },
        "id": "f7TxeSKHkAlU",
        "outputId": "85ede400-2c00-426f-e770-38daa4f817d6"
      },
      "source": [
        "ans1 = X @ Xinv_Y\n",
        "np.allclose(ans1, Y)"
      ],
      "execution_count": 25,
      "outputs": [
        {
          "output_type": "execute_result",
          "data": {
            "text/plain": [
              "True"
            ]
          },
          "metadata": {
            "tags": []
          },
          "execution_count": 25
        }
      ]
    }
  ]
}